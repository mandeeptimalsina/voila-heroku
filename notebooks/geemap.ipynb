{
 "cells": [
  {
   "cell_type": "code",
   "execution_count": 111,
   "id": "3980c966",
   "metadata": {},
   "outputs": [],
   "source": [
    "import ee\n",
    "import geemap\n",
    "import ipywidgets as widgets\n",
    "import webbrowser"
   ]
  },
  {
   "cell_type": "code",
   "execution_count": 112,
   "id": "a908f2eb",
   "metadata": {},
   "outputs": [],
   "source": [
    "ee.Initialize()"
   ]
  },
  {
   "cell_type": "code",
   "execution_count": 113,
   "id": "dcc68a53",
   "metadata": {},
   "outputs": [],
   "source": [
    "Map=geemap.Map()"
   ]
  },
  {
   "cell_type": "code",
   "execution_count": 114,
   "id": "ea434568",
   "metadata": {},
   "outputs": [
    {
     "data": {
      "application/vnd.jupyter.widget-view+json": {
       "model_id": "f8bf0df60ea1484bbe57b5a1f7c4ec1c",
       "version_major": 2,
       "version_minor": 0
      },
      "text/plain": [
       "Map(center=[20, 0], controls=(WidgetControl(options=['position', 'transparent_bg'], widget=HBox(children=(Togg…"
      ]
     },
     "metadata": {},
     "output_type": "display_data"
    }
   ],
   "source": [
    "Map"
   ]
  },
  {
   "cell_type": "code",
   "execution_count": 115,
   "id": "c86fd284",
   "metadata": {},
   "outputs": [],
   "source": [
    "if Map.draw_last_feature is True:\n",
    "    roi=ee.FeatureCollection(Map.draw_last_feature)"
   ]
  },
  {
   "cell_type": "code",
   "execution_count": 116,
   "id": "8a47b72e",
   "metadata": {},
   "outputs": [
    {
     "data": {
      "application/vnd.jupyter.widget-view+json": {
       "model_id": "babd7e6feeb3408c8a9b519d3082cc59",
       "version_major": 2,
       "version_minor": 0
      },
      "text/plain": [
       "Dropdown(description='Image:', options=('Landsat 8 Collection 2 TOA', 'Landsat 8 Collection 1 TOA', 'Landsat 8…"
      ]
     },
     "metadata": {},
     "output_type": "display_data"
    }
   ],
   "source": [
    "ImageType=widgets.Dropdown(\n",
    "    options=[('Landsat 8 Collection 2 TOA'), ('Landsat 8 Collection 1 TOA'), ('Landsat 8 Collection 2 SR'),\n",
    "             ('Landsat 8 Collection 1 SR'),('Landsat 7 Collection 2 TOA'),('Landsat 7 Collection 1 TOA'),\n",
    "            ('Landsat 7 Collection 2 SR'),('Landsat 7 Collection 1 SR'),\n",
    "             ('Sentinel-1 SAR'),('Sentinel-2 MSI'),('Sentinel-3 OLCI EFR')\n",
    "            ],\n",
    "    description='Image:',   \n",
    ")\n",
    "ImageType"
   ]
  },
  {
   "cell_type": "code",
   "execution_count": 117,
   "id": "9006879f",
   "metadata": {
    "scrolled": true
   },
   "outputs": [
    {
     "data": {
      "application/vnd.jupyter.widget-view+json": {
       "model_id": "b02755540b4443a7b0871fad9cbcc362",
       "version_major": 2,
       "version_minor": 0
      },
      "text/plain": [
       "HBox(children=(DatePicker(value=None, description='Start Date'), DatePicker(value=None, description='End Date'…"
      ]
     },
     "metadata": {},
     "output_type": "display_data"
    }
   ],
   "source": [
    "start_date_widget = widgets.DatePicker(\n",
    "    description='Start Date',\n",
    "    tooltip='Input Start Date',\n",
    "    disabled=False\n",
    ")\n",
    "end_date_widget = widgets.DatePicker(\n",
    "    description='End Date',\n",
    "    tooltip='Input End Date',\n",
    "    disabled=False\n",
    ")\n",
    "\n",
    "widgets.HBox([start_date_widget, end_date_widget])"
   ]
  },
  {
   "cell_type": "code",
   "execution_count": 118,
   "id": "e2725420",
   "metadata": {},
   "outputs": [],
   "source": [
    "def Image_Type(value):\n",
    "    global imagecode\n",
    "    imagecode=''\n",
    "    if value == 'Landsat 8 Collection 2 TOA':\n",
    "        imagecode = imagecode+\"LANDSAT/LC08/C02/T1_TOA\"\n",
    "    elif value == 'Landsat 8 Collection 1 TOA':\n",
    "        imagecode = imagecode+\"LANDSAT/LC08/C01/T2_TOA\"\n",
    "    elif value == 'Landsat 8 Collection 2 SR':\n",
    "        imagecode = imagecode+\"LANDSAT/LC08/C02/T1_L2\"\n",
    "    elif value == 'Landsat 8 Collection 1 SR':\n",
    "        imagecode = imagecode+\"LANDSAT/LC08/C01/T2_SR\"\n",
    "    elif value == 'Landsat 7 Collection 2 TOA':\n",
    "        imagecode = imagecode+\"LANDSAT/LE07/C02/T1_TOA\"\n",
    "    elif value == 'Landsat 7 Collection 1 TOA':\n",
    "        imagecode = imagecode+\"LANDSAT/LE07/C01/T2_TOA\"\n",
    "    elif value == 'Landsat 7 Collection 2 SR':\n",
    "        imagecode = imagecode+\"LANDSAT/LE07/C02/T1_L2\"\n",
    "    elif value == 'Landsat 7 Collection 1 SR':\n",
    "        imagecode = imagecode+\"LANDSAT/LE07/C01/T2_SR\"\n",
    "    elif value == 'Sentinel-1 SAR':\n",
    "        imagecode = imagecode+\"COPERNICUS/S1_GRD\"\n",
    "    elif value == 'Sentinel-2 MSI':\n",
    "        imagecode = imagecode+\"COPERNICUS/S2_SR\"\n",
    "    elif value == 'Sentinel-3 OLCI EFR':\n",
    "        imagecode = imagecode+\"COPERNICUS/S3/OLCI\"\n",
    "    else:\n",
    "        print('Mistake') \n",
    "    return imagecode"
   ]
  },
  {
   "cell_type": "code",
   "execution_count": 119,
   "id": "682224e4",
   "metadata": {},
   "outputs": [],
   "source": [
    "submit = widgets.Button(\n",
    "    description='Submit',\n",
    "    disabled=False,\n",
    "    button_style='primary', # 'success', 'info', 'warning', 'danger' or ''\n",
    "    tooltip='Submit',\n",
    "    icon='check' # (FontAwesome names without the `fa-` prefix)\n",
    ")\n",
    "output = widgets.Output()"
   ]
  },
  {
   "cell_type": "code",
   "execution_count": 120,
   "id": "6a3df684",
   "metadata": {},
   "outputs": [],
   "source": [
    "def submit_clicked(b):\n",
    "        try:\n",
    "            start_date=start_date_widget.value\n",
    "            end_date=end_date_widget.value\n",
    "            start_date = start_date.strftime(\"%Y-%m-%d\")\n",
    "            end_date = end_date.strftime(\"%Y-%m-%d\")\n",
    "            roi=Map.user_roi\n",
    "            value=ImageType.value\n",
    "            Image_Type(value)\n",
    "            image=ee.ImageCollection(imagecode).filterDate(start_date, end_date).filterBounds(roi).sort(\"CLOUD_COVER\").first()\n",
    "            Map.addLayer(image.clip(roi), {}, \"Imagery\")\n",
    "            url = image.getDownloadUrl({\n",
    "                'scale': 30,\n",
    "                'region': roi\n",
    "            })\n",
    "            webbrowser.open(url, new=0, autoraise=True)\n",
    "            print(url)\n",
    "        except Exception as e:\n",
    "            print(e)\n",
    "            print('An error occurred during computation.')\n",
    "            \n",
    "            \n",
    "submit.on_click(submit_clicked)"
   ]
  },
  {
   "cell_type": "code",
   "execution_count": 121,
   "id": "e5c74efe",
   "metadata": {},
   "outputs": [
    {
     "name": "stdout",
     "output_type": "stream",
     "text": [
      "Click Submit\n"
     ]
    },
    {
     "data": {
      "application/vnd.jupyter.widget-view+json": {
       "model_id": "c72dd7184a7c4c1c809faee655196536",
       "version_major": 2,
       "version_minor": 0
      },
      "text/plain": [
       "Button(button_style='primary', description='Submit', icon='check', style=ButtonStyle(), tooltip='Submit')"
      ]
     },
     "metadata": {},
     "output_type": "display_data"
    },
    {
     "name": "stdout",
     "output_type": "stream",
     "text": [
      "https://earthengine.googleapis.com/v1alpha/projects/earthengine-legacy/thumbnails/8d24a4521b09c82dfbd7c0ffb63e75ca-3e8723ae0ae028d0a809b7388e5cb653:getPixels\n"
     ]
    }
   ],
   "source": [
    "print('Click Submit')\n",
    "submit"
   ]
  },
  {
   "cell_type": "code",
   "execution_count": 122,
   "id": "c6e7b4f1",
   "metadata": {},
   "outputs": [
    {
     "data": {
      "application/vnd.jupyter.widget-view+json": {
       "model_id": "c7be7e8cdaee48878b582245f67130cd",
       "version_major": 2,
       "version_minor": 0
      },
      "text/plain": [
       "Output()"
      ]
     },
     "metadata": {},
     "output_type": "display_data"
    }
   ],
   "source": [
    "output"
   ]
  }
 ],
 "metadata": {
  "kernelspec": {
   "display_name": "Python 3 (ipykernel)",
   "language": "python",
   "name": "python3"
  },
  "language_info": {
   "codemirror_mode": {
    "name": "ipython",
    "version": 3
   },
   "file_extension": ".py",
   "mimetype": "text/x-python",
   "name": "python",
   "nbconvert_exporter": "python",
   "pygments_lexer": "ipython3",
   "version": "3.9.7"
  }
 },
 "nbformat": 4,
 "nbformat_minor": 5
}
